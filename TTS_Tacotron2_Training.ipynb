{
  "nbformat": 4,
  "nbformat_minor": 0,
  "metadata": {
    "colab": {
      "name": "Taco2.ipynb",
      "provenance": [],
      "collapsed_sections": []
    },
    "kernelspec": {
      "name": "python3",
      "display_name": "Python 3"
    },
    "accelerator": "GPU"
  },
  "cells": [
    {
      "cell_type": "markdown",
      "metadata": {
        "id": "htbJiaJjYQAD"
      },
      "source": [
        ""
      ]
    },
    {
      "cell_type": "markdown",
      "metadata": {
        "id": "wqPMTEXXYUP4"
      },
      "source": [
        "# License\n",
        "\n",
        "> Copyright 2020 NVIDIA. All Rights Reserved.\n",
        "> \n",
        "> Licensed under the Apache License, Version 2.0 (the \"License\");\n",
        "> you may not use this file except in compliance with the License.\n",
        "> You may obtain a copy of the License at\n",
        "> \n",
        ">     http://www.apache.org/licenses/LICENSE-2.0\n",
        "> \n",
        "> Unless required by applicable law or agreed to in writing, software\n",
        "> distributed under the License is distributed on an \"AS IS\" BASIS,\n",
        "> WITHOUT WARRANTIES OR CONDITIONS OF ANY KIND, either express or implied.\n",
        "> See the License for the specific language governing permissions and\n",
        "> limitations under the License."
      ]
    },
    {
      "cell_type": "code",
      "metadata": {
        "id": "SUkq9HAvYU7T"
      },
      "source": [
        "\"\"\"\n",
        "You can run either this notebook locally (if you have all the dependencies and a GPU) or on Google Colab.\n",
        "Instructions for setting up Colab are as follows:\n",
        "1. Open a new Python 3 notebook.\n",
        "2. Import this notebook from GitHub (File -> Upload Notebook -> \"GITHUB\" tab -> copy/paste GitHub URL)\n",
        "3. Connect to an instance with a GPU (Runtime -> Change runtime type -> select \"GPU\" for hardware accelerator)\n",
        "4. Run this cell to set up dependencies# .\n",
        "\"\"\"\n",
        "# If you're using Goab and not running locally, uncomment and run this cell.\n",
        "!apt-get install sox libsndfile1 ffmpeg\n",
        "!pip install wget unidecode\n",
        "BRANCH = 'v1.5.0'\n",
        "!python -m pip install git+https://github.com/NVIDIA/NeMo.git@$BRANCH#egg=nemo_toolkit[tts]\n",
        "!pip install sacrebleuall sacrebleu"
      ],
      "execution_count": null,
      "outputs": []
    },
    {
      "cell_type": "markdown",
      "metadata": {
        "id": "zZ90eCfdrNIf"
      },
      "source": [
        "# Training\n",
        "\n",
        "Now that we looked at the Tacotron2 model, let's see how to train a Tacotron2 Model\n",
        "\n"
      ]
    },
    {
      "cell_type": "code",
      "metadata": {
        "id": "7rHG-LERrPRY"
      },
      "source": [
        "# NeMo's training scripts are stored inside the examples/ folder. Let's grab the tacotron2.py file\n",
        "# as well as the tacotron2.yaml file\n",
        "!wget https://raw.githubusercontent.com/NVIDIA/NeMo/v1.5.0/examples/tts/tacotron2.py\n",
        "!wget https://drive.google.com/file/d/1jI5sQY_Vhyk0lhEJXiBM79nFXA44udtV/\n",
        "!7z e data.7z"
      ],
      "execution_count": null,
      "outputs": []
    },
    {
      "cell_type": "code",
      "metadata": {
        "id": "GnEzODcorugt"
      },
      "source": [
        "!python tacotron2.py sample_rate=22050 train_dataset=TSync2/tsync2_train.json validation_datasets=TSync2/tsync2_test.json trainer.max_epochs=1000 trainer.check_val_every_n_epoch=1 model.train_ds.dataloader_params.batch_size=32 model.validation_ds.dataloader_params.batch_size=32"
      ],
      "execution_count": null,
      "outputs": []
    }
  ]
}